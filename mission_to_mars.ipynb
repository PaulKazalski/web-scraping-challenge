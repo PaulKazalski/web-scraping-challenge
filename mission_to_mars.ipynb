{
 "cells": [
  {
   "cell_type": "markdown",
   "metadata": {
    "slideshow": {
     "slide_type": "-"
    }
   },
   "source": [
    "### Import Dependencies"
   ]
  },
  {
   "cell_type": "code",
   "execution_count": 25,
   "metadata": {},
   "outputs": [
    {
     "name": "stdout",
     "output_type": "stream",
     "text": [
      "Requirement already satisfied: selenium in c:\\users\\paulk\\anaconda3\\lib\\site-packages (3.141.0)\n",
      "Requirement already satisfied: urllib3 in c:\\users\\paulk\\anaconda3\\lib\\site-packages (from selenium) (1.24.2)\n",
      "Requirement already satisfied: splinter in c:\\users\\paulk\\anaconda3\\lib\\site-packages (0.13.0)\n",
      "Requirement already satisfied: selenium>=3.141.0 in c:\\users\\paulk\\anaconda3\\lib\\site-packages (from splinter) (3.141.0)\n",
      "Requirement already satisfied: six in c:\\users\\paulk\\anaconda3\\lib\\site-packages (from splinter) (1.12.0)\n",
      "Requirement already satisfied: urllib3 in c:\\users\\paulk\\anaconda3\\lib\\site-packages (from selenium>=3.141.0->splinter) (1.24.2)\n"
     ]
    }
   ],
   "source": [
    "# Dependencies\n",
    "from bs4 import BeautifulSoup\n",
    "import requests\n",
    "from urllib.request import urlopen\n",
    "!pip install selenium\n",
    "!pip install splinter\n",
    "from splinter import Browser\n",
    "import requests\n",
    "import sys\n",
    "import json\n",
    "import pandas as pd"
   ]
  },
  {
   "cell_type": "markdown",
   "metadata": {
    "slideshow": {
     "slide_type": "-"
    }
   },
   "source": [
    "### Mars News Site"
   ]
  },
  {
   "cell_type": "code",
   "execution_count": 2,
   "metadata": {},
   "outputs": [],
   "source": [
    "url = 'https://mars.nasa.gov/news'\n",
    "response = requests.get(url)\n",
    "soup = BeautifulSoup(response.content, 'html.parser')"
   ]
  },
  {
   "cell_type": "code",
   "execution_count": 3,
   "metadata": {},
   "outputs": [
    {
     "name": "stdout",
     "output_type": "stream",
     "text": [
      "\n",
      "\n",
      "Virginia Middle School Student Earns Honor of Naming NASA's Next Mars Rover\n",
      "\n",
      "\n",
      "\n",
      "NASA chose a seventh-grader from Virginia as winner of the agency's \"Name the Rover\" essay contest. Alexander Mather's entry for \"Perseverance\" was voted tops among 28,000 entries. \n",
      "\n"
     ]
    }
   ],
   "source": [
    "article = soup.find('div', class_='content_title').text\n",
    "print(article)\n",
    "paragraph = soup.find('div', class_='rollover_description_inner').text\n",
    "print(paragraph)"
   ]
  },
  {
   "cell_type": "markdown",
   "metadata": {
    "slideshow": {
     "slide_type": "-"
    }
   },
   "source": [
    "### Mars Images"
   ]
  },
  {
   "cell_type": "code",
   "execution_count": 4,
   "metadata": {},
   "outputs": [],
   "source": [
    "url2 = 'https://www.jpl.nasa.gov/spaceimages'\n",
    "html2 = urlopen(url2)\n",
    "soup2 = BeautifulSoup(html2)"
   ]
  },
  {
   "cell_type": "code",
   "execution_count": 36,
   "metadata": {},
   "outputs": [
    {
     "data": {
      "text/plain": [
       "'https://www.jpl.nasa.gov/spaceimages/images/wallpaper/PIA18058-1920x1200.jpg'"
      ]
     },
     "execution_count": 36,
     "metadata": {},
     "output_type": "execute_result"
    }
   ],
   "source": [
    "item = soup2.find('div', class_ = 'carousel_items')\n",
    "thing1 = str(item).split(sep='(')\n",
    "thing2 = thing1[1].split(sep=')')\n",
    "img_thread = thing2[0]\n",
    "img_thread = img_thread.replace(\"'\",\"\")\n",
    "mars_img = \"https://www.jpl.nasa.gov\"+img_thread\n",
    "mars_img"
   ]
  },
  {
   "cell_type": "markdown",
   "metadata": {},
   "source": [
    "### Mars Weather"
   ]
  },
  {
   "cell_type": "code",
   "execution_count": 38,
   "metadata": {},
   "outputs": [],
   "source": [
    "url3 = 'https://twitter.com/marswxreport'\n",
    "response3 = requests.get(url3)\n",
    "soup3 = BeautifulSoup(response3.text, 'lxml')"
   ]
  },
  {
   "cell_type": "code",
   "execution_count": 45,
   "metadata": {},
   "outputs": [],
   "source": [
    "tweets = soup3.findAll('a', class_='tweet-timestamp js-permalink js-nav js-tooltip')\n",
    "link = tweets[2]\n",
    "link_brk = str(link).split('\"')\n",
    "link_ext = link_brk[5]"
   ]
  },
  {
   "cell_type": "code",
   "execution_count": 46,
   "metadata": {},
   "outputs": [],
   "source": [
    "url3b = 'https://twitter.com'+link_ext\n",
    "response3b = requests.get(url3b)\n",
    "soup3b = BeautifulSoup(response3b.text, 'lxml')"
   ]
  },
  {
   "cell_type": "code",
   "execution_count": 47,
   "metadata": {},
   "outputs": [
    {
     "data": {
      "text/plain": [
       "'InSight sol 452 (2020-03-05) low -94.2ºC (-137.7ºF) high -9.2ºC (15.4ºF)\\nwinds from the SSW at 6.5 m/s (14.5 mph) gusting to 19.6 m/s (43.9 mph)\\npressure at 6.30 hPa… https://t.co/ezCwzIJrek'"
      ]
     },
     "execution_count": 47,
     "metadata": {},
     "output_type": "execute_result"
    }
   ],
   "source": [
    "tweetsb = soup3b.findAll('link', type='application/json+oembed')\n",
    "data_str = str(tweetsb).split('\"')\n",
    "tweet_data = data_str[5]\n",
    "tweet_data"
   ]
  },
  {
   "cell_type": "markdown",
   "metadata": {},
   "source": [
    "### Mars Facts"
   ]
  },
  {
   "cell_type": "code",
   "execution_count": 10,
   "metadata": {},
   "outputs": [],
   "source": [
    "url4 = 'https://space-facts.com/mars/'\n",
    "response4 = requests.get(url4)\n",
    "soup4 = BeautifulSoup(response4.text, 'lxml')"
   ]
  },
  {
   "cell_type": "code",
   "execution_count": 11,
   "metadata": {},
   "outputs": [
    {
     "data": {
      "text/plain": [
       "['Equatorial Diameter:6,792 km',\n",
       " 'Polar Diameter:6,752 km',\n",
       " 'Mass:6.39 × 10^23 kg (0.11 Earths)',\n",
       " 'Moons:2 (Phobos & Deimos)',\n",
       " 'Orbit Distance:227,943,824 km (1.38 AU)',\n",
       " 'Orbit Period:687 days (1.9 years)',\n",
       " 'Surface Temperature: -87 to -5 °C',\n",
       " 'First Record:2nd millennium BC',\n",
       " 'Recorded By:Egyptian astronomers']"
      ]
     },
     "execution_count": 11,
     "metadata": {},
     "output_type": "execute_result"
    }
   ],
   "source": [
    "stats_body = soup4.find('tbody')\n",
    "stats_body\n",
    "headers = [tr.getText() for tr in soup4.find('tbody')]\n",
    "headers"
   ]
  },
  {
   "cell_type": "markdown",
   "metadata": {},
   "source": [
    "### Mars Hemisphere"
   ]
  },
  {
   "cell_type": "code",
   "execution_count": 12,
   "metadata": {},
   "outputs": [],
   "source": [
    "url5 = 'https://astrogeology.usgs.gov/search/results?q=hemisphere+enhanced&k1=target&v1=Mars'\n",
    "response5 = requests.get(url5)\n",
    "soup5 = BeautifulSoup(response5.text, 'lxml')\n"
   ]
  },
  {
   "cell_type": "code",
   "execution_count": 13,
   "metadata": {},
   "outputs": [],
   "source": [
    "pic_items = soup5.findAll('div', class_ = \"item\")\n",
    "cerberus = pic_items[0]\n",
    "schia = pic_items[1]\n",
    "syrtis = pic_items[2]\n",
    "valles = pic_items[3]"
   ]
  },
  {
   "cell_type": "code",
   "execution_count": 51,
   "metadata": {},
   "outputs": [
    {
     "data": {
      "text/plain": [
       "'http://astropedia.astrogeology.usgs.gov/download/Mars/Viking/cerberus_enhanced.tif/full.jpg'"
      ]
     },
     "execution_count": 51,
     "metadata": {},
     "output_type": "execute_result"
    }
   ],
   "source": [
    "cerberus_str = str(cerberus).split('\"')\n",
    "jpgurl = 'https://astrogeology.usgs.gov'+cerberus_str[5]\n",
    "jpgresponse = requests.get(jpgurl)\n",
    "jpgsoup = BeautifulSoup(jpgresponse.text, 'lxml')\n",
    "pic_site = jpgsoup.findAll('li')\n",
    "pic_list = str(pic_site).split('\"')\n",
    "cerberus_full = pic_list[1]\n",
    "cerberus_full"
   ]
  },
  {
   "cell_type": "code",
   "execution_count": 15,
   "metadata": {},
   "outputs": [
    {
     "data": {
      "text/plain": [
       "'http://astropedia.astrogeology.usgs.gov/download/Mars/Viking/schiaparelli_enhanced.tif/full.jpg'"
      ]
     },
     "execution_count": 15,
     "metadata": {},
     "output_type": "execute_result"
    }
   ],
   "source": [
    "schia_str = str(schia).split('\"')\n",
    "jpgurl = 'https://astrogeology.usgs.gov'+schia_str[5]\n",
    "jpgresponse = requests.get(jpgurl)\n",
    "jpgsoup = BeautifulSoup(jpgresponse.text, 'lxml')\n",
    "jpgsoup\n",
    "pic_site = jpgsoup.findAll('li')\n",
    "pic_list = str(pic_site).split('\"')\n",
    "schia_full = pic_list[1]\n",
    "schia_full"
   ]
  },
  {
   "cell_type": "code",
   "execution_count": 16,
   "metadata": {},
   "outputs": [
    {
     "data": {
      "text/plain": [
       "'http://astropedia.astrogeology.usgs.gov/download/Mars/Viking/syrtis_major_enhanced.tif/full.jpg'"
      ]
     },
     "execution_count": 16,
     "metadata": {},
     "output_type": "execute_result"
    }
   ],
   "source": [
    "syrtis_str = str(syrtis).split('\"')\n",
    "jpgurl = 'https://astrogeology.usgs.gov'+syrtis_str[5]\n",
    "jpgresponse = requests.get(jpgurl)\n",
    "jpgsoup = BeautifulSoup(jpgresponse.text, 'lxml')\n",
    "jpgsoup\n",
    "pic_site = jpgsoup.findAll('li')\n",
    "pic_list = str(pic_site).split('\"')\n",
    "syrtis_full = pic_list[1]\n",
    "syrtis_full"
   ]
  },
  {
   "cell_type": "code",
   "execution_count": 17,
   "metadata": {},
   "outputs": [
    {
     "data": {
      "text/plain": [
       "'http://astropedia.astrogeology.usgs.gov/download/Mars/Viking/valles_marineris_enhanced.tif/full.jpg'"
      ]
     },
     "execution_count": 17,
     "metadata": {},
     "output_type": "execute_result"
    }
   ],
   "source": [
    "valles_str = str(valles).split('\"')\n",
    "jpgurl = 'https://astrogeology.usgs.gov'+valles_str[5]\n",
    "jpgresponse = requests.get(jpgurl)\n",
    "jpgsoup = BeautifulSoup(jpgresponse.text, 'lxml')\n",
    "jpgsoup\n",
    "pic_site = jpgsoup.findAll('li')\n",
    "pic_list = str(pic_site).split('\"')\n",
    "valles_full = pic_list[1]\n",
    "valles_full"
   ]
  },
  {
   "cell_type": "code",
   "execution_count": 18,
   "metadata": {},
   "outputs": [],
   "source": []
  },
  {
   "cell_type": "code",
   "execution_count": 30,
   "metadata": {},
   "outputs": [],
   "source": [
    "def scrape():\n",
    "    \n",
    "    url = 'https://mars.nasa.gov/news'\n",
    "    \n",
    "    browser = init_browser()\n",
    "    browser.visit(url)\n",
    "    news_title = browser.find_by_css('.content_title').first.text\n",
    "    news_p = browser.find_by_css('.article_teaser_body').first.text\n",
    "    \n",
    "    mars_collection = {}\n",
    "    \n",
    "    \n",
    "    return mars_collection"
   ]
  },
  {
   "cell_type": "code",
   "execution_count": 55,
   "metadata": {},
   "outputs": [
    {
     "data": {
      "text/plain": [
       "{'news_art': \"\\n\\nVirginia Middle School Student Earns Honor of Naming NASA's Next Mars Rover\\n\\n\",\n",
       " 'news_par': '\\nNASA chose a seventh-grader from Virginia as winner of the agency\\'s \"Name the Rover\" essay contest. Alexander Mather\\'s entry for \"Perseverance\" was voted tops among 28,000 entries. \\n',\n",
       " 'featured_img': 'https://www.jpl.nasa.gov/spaceimages/images/wallpaper/PIA18058-1920x1200.jpg',\n",
       " 'Rover_info': 'InSight sol 452 (2020-03-05) low -94.2ºC (-137.7ºF) high -9.2ºC (15.4ºF)\\nwinds from the SSW at 6.5 m/s (14.5 mph) gusting to 19.6 m/s (43.9 mph)\\npressure at 6.30 hPa… https://t.co/ezCwzIJrek',\n",
       " 'Mars_facts': ['Equatorial Diameter:6,792 km',\n",
       "  'Polar Diameter:6,752 km',\n",
       "  'Mass:6.39 × 10^23 kg (0.11 Earths)',\n",
       "  'Moons:2 (Phobos & Deimos)',\n",
       "  'Orbit Distance:227,943,824 km (1.38 AU)',\n",
       "  'Orbit Period:687 days (1.9 years)',\n",
       "  'Surface Temperature: -87 to -5 °C',\n",
       "  'First Record:2nd millennium BC',\n",
       "  'Recorded By:Egyptian astronomers'],\n",
       " 'moon_pics': {'cerberus': 'http://astropedia.astrogeology.usgs.gov/download/Mars/Viking/cerberus_enhanced.tif/full.jpg',\n",
       "  'schia': 'http://astropedia.astrogeology.usgs.gov/download/Mars/Viking/schiaparelli_enhanced.tif/full.jpg',\n",
       "  'syrtis': 'http://astropedia.astrogeology.usgs.gov/download/Mars/Viking/syrtis_major_enhanced.tif/full.jpg',\n",
       "  'valles': 'http://astropedia.astrogeology.usgs.gov/download/Mars/Viking/valles_marineris_enhanced.tif/full.jpg'}}"
      ]
     },
     "execution_count": 55,
     "metadata": {},
     "output_type": "execute_result"
    }
   ],
   "source": [
    "mars_collection = {}\n",
    "mars_collection['news_art'] = article\n",
    "mars_collection['news_par'] =  paragraph\n",
    "mars_collection['featured_img']= mars_img\n",
    "mars_collection['Rover_info'] = tweet_data\n",
    "mars_collection['Mars_facts'] = headers\n",
    "mars_collection['moon_pics'] = {}\n",
    "mars_collection['moon_pics']['cerberus'] = cerberus_full\n",
    "mars_collection['moon_pics']['schia'] = schia_full\n",
    "mars_collection['moon_pics']['syrtis'] = syrtis_full\n",
    "mars_collection['moon_pics']['valles'] = valles_full\n",
    "\n",
    "\n",
    "mars_collection"
   ]
  },
  {
   "cell_type": "code",
   "execution_count": 78,
   "metadata": {},
   "outputs": [
    {
     "data": {
      "text/plain": [
       "<pymongo.results.InsertOneResult at 0x252fb6f29c8>"
      ]
     },
     "execution_count": 78,
     "metadata": {},
     "output_type": "execute_result"
    }
   ],
   "source": [
    "import pymongo\n",
    "from pymongo import MongoClient\n",
    "\n",
    "client = pymongo.MongoClient('localhost', 27017)\n",
    "\n",
    "db = client['mars_data']\n",
    "col = db['mars_col']\n",
    "col.insert_one(mars_collection)"
   ]
  }
 ],
 "metadata": {
  "kernelspec": {
   "display_name": "Python 3.7.4 64-bit ('paulk': virtualenv)",
   "language": "python",
   "name": "python37464bitpaulkvirtualenv88c5c39ac41f48259926c1151b67c0e9"
  },
  "language_info": {
   "codemirror_mode": {
    "name": "ipython",
    "version": 3
   },
   "file_extension": ".py",
   "mimetype": "text/x-python",
   "name": "python",
   "nbconvert_exporter": "python",
   "pygments_lexer": "ipython3",
   "version": "3.7.4"
  },
  "nteract": {
   "version": "0.12.3"
  }
 },
 "nbformat": 4,
 "nbformat_minor": 2
}
